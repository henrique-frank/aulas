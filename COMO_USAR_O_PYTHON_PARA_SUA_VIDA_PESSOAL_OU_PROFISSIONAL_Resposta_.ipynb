{
  "nbformat": 4,
  "nbformat_minor": 0,
  "metadata": {
    "colab": {
      "provenance": [],
      "collapsed_sections": [
        "_ifALTOl2tg0"
      ],
      "authorship_tag": "ABX9TyMK3dJ+FTK8j/UCtOev5cAG",
      "include_colab_link": true
    },
    "kernelspec": {
      "name": "python3",
      "display_name": "Python 3"
    },
    "language_info": {
      "name": "python"
    }
  },
  "cells": [
    {
      "cell_type": "markdown",
      "metadata": {
        "id": "view-in-github",
        "colab_type": "text"
      },
      "source": [
        "<a href=\"https://colab.research.google.com/github/henrique-frank/aulas-youtube/blob/master/COMO_USAR_O_PYTHON_PARA_SUA_VIDA_PESSOAL_OU_PROFISSIONAL_Resposta_.ipynb\" target=\"_parent\"><img src=\"https://colab.research.google.com/assets/colab-badge.svg\" alt=\"Open In Colab\"/></a>"
      ]
    },
    {
      "cell_type": "markdown",
      "source": [
        "Se você leu esse texto, tem a obrigação de deixar o seu like e se increver no canal! 🥰"
      ],
      "metadata": {
        "id": "svrzQEeU3Ad0"
      }
    },
    {
      "cell_type": "markdown",
      "source": [
        "> ## Python para sua vida profissional - Análise de dados\n",
        "\n",
        "\n",
        "---\n",
        "\n",
        "\n"
      ],
      "metadata": {
        "id": "ruHnk-2D2l9z"
      }
    },
    {
      "cell_type": "code",
      "source": [
        "import pandas as pd\n",
        "\n",
        "# Dados de exemplo\n",
        "dados = {\n",
        "    'Nome': ['João', 'Maria', 'Pedro', 'Ana', 'Carlos'],\n",
        "    'Idade': [25, 30, 42, 35, 28],\n",
        "    'Cidade': ['São Paulo', 'Rio de Janeiro', 'Brasília', 'Salvador', 'Curitiba'],\n",
        "    'Profissão': ['Engenheiro', 'Advogada', 'Professor', 'Médica', 'Programador'],\n",
        "    'Salário': [5000, 6000, 4500, 8000, 5500]\n",
        "}\n",
        "\n",
        "# Criar DataFrame a partir dos dados\n",
        "df = pd.DataFrame(dados)\n",
        "\n",
        "# Exibir o DataFrame\n",
        "print(df)\n"
      ],
      "metadata": {
        "colab": {
          "base_uri": "https://localhost:8080/"
        },
        "id": "32_w7XdK2rLs",
        "outputId": "cff0e52b-5062-487c-d099-58e01848b833"
      },
      "execution_count": 7,
      "outputs": [
        {
          "output_type": "stream",
          "name": "stdout",
          "text": [
            "     Nome  Idade          Cidade    Profissão  Salário\n",
            "0    João     25       São Paulo   Engenheiro     5000\n",
            "1   Maria     30  Rio de Janeiro     Advogada     6000\n",
            "2   Pedro     42        Brasília    Professor     4500\n",
            "3     Ana     35        Salvador       Médica     8000\n",
            "4  Carlos     28        Curitiba  Programador     5500\n"
          ]
        }
      ]
    },
    {
      "cell_type": "code",
      "source": [
        "# Exibir o DataFrame original\n",
        "print(\"DataFrame original:\")\n",
        "print(df)\n",
        "\n",
        "# Filtrar pessoas com salário acima de 5000\n",
        "df_filtrado_salario = df[df['Salário'] > 5000]\n",
        "\n",
        "# Ordenar o DataFrame por idade em ordem decrescente\n",
        "df_ordenado_idade = df.sort_values('Idade', ascending=False)\n",
        "\n",
        "# Calcular a média de idade do DataFrame\n",
        "media_idade = df['Idade'].mean()\n",
        "\n",
        "# Calcular o salário médio das pessoas com idade acima de 30\n",
        "media_salario_idade_acima_30 = df[df['Idade'] > 30]['Salário'].mean()\n",
        "\n",
        "# Exibir o DataFrame filtrado por salário, ordenado por idade e as médias de idade e salário\n",
        "print(\"\\nDataFrame filtrado por salário:\")\n",
        "print(df_filtrado_salario)\n",
        "print(\"\\nDataFrame ordenado por idade:\")\n",
        "print(df_ordenado_idade)\n",
        "print(f\"\\nMédia de idade: {media_idade}\")\n",
        "print(f\"Média de salário das pessoas com idade acima de 30: {media_salario_idade_acima_30}\")"
      ],
      "metadata": {
        "colab": {
          "base_uri": "https://localhost:8080/"
        },
        "id": "p4nWb2hY4xcc",
        "outputId": "79044164-00de-4708-e438-39514f230685"
      },
      "execution_count": 8,
      "outputs": [
        {
          "output_type": "stream",
          "name": "stdout",
          "text": [
            "DataFrame original:\n",
            "     Nome  Idade          Cidade    Profissão  Salário\n",
            "0    João     25       São Paulo   Engenheiro     5000\n",
            "1   Maria     30  Rio de Janeiro     Advogada     6000\n",
            "2   Pedro     42        Brasília    Professor     4500\n",
            "3     Ana     35        Salvador       Médica     8000\n",
            "4  Carlos     28        Curitiba  Programador     5500\n",
            "\n",
            "DataFrame filtrado por salário:\n",
            "     Nome  Idade          Cidade    Profissão  Salário\n",
            "1   Maria     30  Rio de Janeiro     Advogada     6000\n",
            "3     Ana     35        Salvador       Médica     8000\n",
            "4  Carlos     28        Curitiba  Programador     5500\n",
            "\n",
            "DataFrame ordenado por idade:\n",
            "     Nome  Idade          Cidade    Profissão  Salário\n",
            "2   Pedro     42        Brasília    Professor     4500\n",
            "3     Ana     35        Salvador       Médica     8000\n",
            "1   Maria     30  Rio de Janeiro     Advogada     6000\n",
            "4  Carlos     28        Curitiba  Programador     5500\n",
            "0    João     25       São Paulo   Engenheiro     5000\n",
            "\n",
            "Média de idade: 32.0\n",
            "Média de salário das pessoas com idade acima de 30: 6250.0\n"
          ]
        }
      ]
    },
    {
      "cell_type": "markdown",
      "source": [
        "> ## Python para sua vida pessoal - Notas rápidas\n",
        "\n",
        "\n"
      ],
      "metadata": {
        "id": "_ifALTOl2tg0"
      }
    },
    {
      "cell_type": "code",
      "source": [
        "def adicionar_anotacao():\n",
        "    anotacao = input(\"Digite sua anotação: \")\n",
        "\n",
        "    with open('anotacoes.txt', 'a') as arquivo:\n",
        "        arquivo.write(anotacao + '\\n')\n",
        "\n",
        "    print(\"Anotação adicionada com sucesso!\")"
      ],
      "metadata": {
        "id": "HVwDivdp3oB0"
      },
      "execution_count": 3,
      "outputs": []
    },
    {
      "cell_type": "code",
      "source": [
        "def exibir_anotacoes():\n",
        "    try:\n",
        "        with open('anotacoes.txt', 'r') as arquivo:\n",
        "            anotacoes = arquivo.readlines()\n",
        "\n",
        "        if not anotacoes:\n",
        "            print(\"Não há anotações.\")\n",
        "        else:\n",
        "            print(\"Anotações:\")\n",
        "            for anotacao in anotacoes:\n",
        "                print(anotacao.strip())\n",
        "\n",
        "    except FileNotFoundError:\n",
        "        print(\"Não há anotações.\")"
      ],
      "metadata": {
        "id": "0O6qAs1j5esp"
      },
      "execution_count": 4,
      "outputs": []
    },
    {
      "cell_type": "code",
      "source": [
        "def menu():\n",
        "    opcao = 0\n",
        "\n",
        "    while opcao != 3:\n",
        "        print(\"\\n--- MENU ---\")\n",
        "        print(\"1. Adicionar anotação\")\n",
        "        print(\"2. Exibir anotações\")\n",
        "        print(\"3. Sair\")\n",
        "\n",
        "        try:\n",
        "            opcao = int(input(\"Escolha uma opção: \"))\n",
        "\n",
        "            if opcao == 1:\n",
        "                adicionar_anotacao()\n",
        "            elif opcao == 2:\n",
        "                exibir_anotacoes()\n",
        "            elif opcao == 3:\n",
        "                print(\"Encerrando o programa...\")\n",
        "            else:\n",
        "                print(\"Opção inválida. Tente novamente.\")\n",
        "\n",
        "        except ValueError:\n",
        "            print(\"Opção inválida. Tente novamente.\")"
      ],
      "metadata": {
        "id": "npyMsvdg5ecW"
      },
      "execution_count": 5,
      "outputs": []
    },
    {
      "cell_type": "code",
      "source": [
        "# Executar o programa\n",
        "print(\"Bem-vindo ao Gerenciador de Anotações!\")\n",
        "\n",
        "menu()"
      ],
      "metadata": {
        "colab": {
          "base_uri": "https://localhost:8080/"
        },
        "id": "EM06zT2q5d28",
        "outputId": "790fc721-5cfa-4db4-d0d9-8ad5897d3666"
      },
      "execution_count": 6,
      "outputs": [
        {
          "output_type": "stream",
          "name": "stdout",
          "text": [
            "Bem-vindo ao Gerenciador de Anotações!\n",
            "\n",
            "--- MENU ---\n",
            "1. Adicionar anotação\n",
            "2. Exibir anotações\n",
            "3. Sair\n",
            "Escolha uma opção: 2\n",
            "Anotações:\n",
            "Teste\n",
            "Teste 2\n",
            "\n",
            "--- MENU ---\n",
            "1. Adicionar anotação\n",
            "2. Exibir anotações\n",
            "3. Sair\n",
            "Escolha uma opção: 2\n",
            "Não há anotações.\n",
            "\n",
            "--- MENU ---\n",
            "1. Adicionar anotação\n",
            "2. Exibir anotações\n",
            "3. Sair\n",
            "Escolha uma opção: 3\n",
            "Encerrando o programa...\n"
          ]
        }
      ]
    }
  ]
}