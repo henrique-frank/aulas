{
  "nbformat": 4,
  "nbformat_minor": 0,
  "metadata": {
    "colab": {
      "provenance": []
    },
    "kernelspec": {
      "name": "python3",
      "display_name": "Python 3"
    },
    "language_info": {
      "name": "python"
    }
  },
  "cells": [
    {
      "cell_type": "markdown",
      "source": [
        "### Exemplos de bibliotecas python para DS\n"
      ],
      "metadata": {
        "id": "v_XT7Q7ZNp1N"
      }
    },
    {
      "cell_type": "markdown",
      "source": [
        "## Numpy"
      ],
      "metadata": {
        "id": "_VhKK9VVNxU5"
      }
    },
    {
      "cell_type": "code",
      "source": [
        "import numpy as np\n",
        "\n",
        "# Criar um array NumPy de duas dimensões\n",
        "a = np.array([[1, 2, 3], [4, 5, 6], [7, 8, 9]])\n",
        "print(\"Array a:\\n\", a)\n",
        "\n",
        "# Acessar um elemento específico do array\n",
        "print(\"Elemento da segunda linha e terceira coluna:\", a[1, 2])\n",
        "\n",
        "# Acessar uma linha específica do array\n",
        "print(\"Linha 2 do array:\", a[1, :])\n",
        "\n",
        "# Acessar uma coluna específica do array\n",
        "print(\"Coluna 3 do array:\\n\", a[:, 2])\n",
        "\n",
        "# Alterar um elemento específico do array\n",
        "a[0, 0] = 10\n",
        "print(\"Array a modificado:\\n\", a)\n",
        "\n",
        "# Realizar uma operação matemática em todos os elementos do array\n",
        "b = a * 2\n",
        "print(\"Array b = a * 2:\\n\", b)\n"
      ],
      "metadata": {
        "id": "JsTx4kP9Nl6z"
      },
      "execution_count": null,
      "outputs": []
    },
    {
      "cell_type": "markdown",
      "source": [
        "## Pandas"
      ],
      "metadata": {
        "id": "6EnkRszxOLgY"
      }
    },
    {
      "cell_type": "code",
      "source": [
        "import pandas as pd\n",
        "\n",
        "# Criar um DataFrame a partir de um dicionário\n",
        "data = {'Nome': ['João', 'Maria', 'Pedro', 'Ana'],\n",
        "        'Idade': [25, 30, 21, 28],\n",
        "        'Cidade': ['São Paulo', 'Rio de Janeiro', 'Belo Horizonte', 'Recife']}\n",
        "\n",
        "df = pd.DataFrame(data)\n",
        "\n",
        "# Selecionar apenas as colunas 'Nome' e 'Cidade'\n",
        "df2 = df[['Nome', 'Cidade']]\n",
        "\n",
        "# Filtrar apenas os registros com idade maior que 25 anos\n",
        "df3 = df[df['Idade'] > 25]\n",
        "\n",
        "# Calcular a média de idade dos registros\n",
        "mean_age = df['Idade'].mean()\n",
        "\n",
        "print(\"Média de idade:\", mean_age)"
      ],
      "metadata": {
        "colab": {
          "base_uri": "https://localhost:8080/"
        },
        "id": "V5izZSzoOLgY",
        "outputId": "00d57c83-b721-4c4d-b8a5-dcb04ea8f172"
      },
      "execution_count": 1,
      "outputs": [
        {
          "output_type": "stream",
          "name": "stdout",
          "text": [
            "Média de idade: 26.0\n"
          ]
        }
      ]
    },
    {
      "cell_type": "markdown",
      "source": [
        "## Scikit-learn"
      ],
      "metadata": {
        "id": "lbZrmiHTN2g_"
      }
    },
    {
      "cell_type": "code",
      "source": [
        "from sklearn.datasets import load_iris\n",
        "from sklearn.model_selection import train_test_split\n",
        "from sklearn.neighbors import KNeighborsClassifier\n",
        "from sklearn.metrics import accuracy_score\n",
        "\n",
        "# Carregar o dataset iris\n",
        "iris = load_iris()\n",
        "\n",
        "# Dividir o dataset em conjuntos de treino e teste\n",
        "X_train, X_test, y_train, y_test = train_test_split(iris.data, iris.target, test_size=0.2, random_state=42)\n",
        "\n",
        "# Treinar um classificador KNN com k=3\n",
        "knn = KNeighborsClassifier(n_neighbors=3)\n",
        "knn.fit(X_train, y_train)\n",
        "\n",
        "# Fazer previsões com o classificador treinado\n",
        "y_pred = knn.predict(X_test)\n",
        "\n",
        "# Calcular a acurácia do classificador\n",
        "acc = accuracy_score(y_test, y_pred)\n",
        "print(\"Acurácia do classificador KNN:\", acc)\n"
      ],
      "metadata": {
        "id": "qKnauaPxN2hA"
      },
      "execution_count": null,
      "outputs": []
    },
    {
      "cell_type": "markdown",
      "source": [
        "## Seaborn"
      ],
      "metadata": {
        "id": "jXALhdVON2ut"
      }
    },
    {
      "cell_type": "code",
      "source": [
        "import seaborn as sns\n",
        "import pandas as pd\n",
        "\n",
        "# Carregar o dataset tips\n",
        "tips = sns.load_dataset(\"tips\")\n",
        "\n",
        "# Plotar um histograma da distribuição das gorjetas\n",
        "sns.histplot(data=tips, x=\"tip\")\n"
      ],
      "metadata": {
        "colab": {
          "base_uri": "https://localhost:8080/",
          "height": 296
        },
        "id": "grNsn6NuN2ut",
        "outputId": "fac2c47e-c1bf-47b7-afd4-e2a30dc7ed63"
      },
      "execution_count": null,
      "outputs": [
        {
          "output_type": "execute_result",
          "data": {
            "text/plain": [
              "<Axes: xlabel='tip', ylabel='Count'>"
            ]
          },
          "metadata": {},
          "execution_count": 1
        },
        {
          "output_type": "display_data",
          "data": {
            "text/plain": [
              "<Figure size 432x288 with 1 Axes>"
            ],
            "image/png": "[encoded data removed]"
          },
          "metadata": {
            "needs_background": "light"
          }
        }
      ]
    }
  ]
}